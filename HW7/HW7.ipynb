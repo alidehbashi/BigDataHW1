{
 "cells": [
  {
   "cell_type": "code",
   "execution_count": 3,
   "id": "10fb5a7e",
   "metadata": {
    "scrolled": false
   },
   "outputs": [
    {
     "name": "stdout",
     "output_type": "stream",
     "text": [
      "+----------------+-------+--------+------+\n",
      "|       Date/Time|    Lat|     Lon|  Base|\n",
      "+----------------+-------+--------+------+\n",
      "|8/1/2014 0:03:00|40.7366|-73.9906|B02512|\n",
      "|8/1/2014 0:09:00| 40.726|-73.9918|B02512|\n",
      "|8/1/2014 0:12:00|40.7209|-74.0507|B02512|\n",
      "|8/1/2014 0:12:00|40.7387|-73.9856|B02512|\n",
      "|8/1/2014 0:12:00|40.7323|-74.0077|B02512|\n",
      "|8/1/2014 0:13:00|40.7349|-74.0033|B02512|\n",
      "|8/1/2014 0:15:00|40.7279|-73.9542|B02512|\n",
      "|8/1/2014 0:17:00| 40.721|-73.9937|B02512|\n",
      "|8/1/2014 0:19:00|40.7195| -74.006|B02512|\n",
      "|8/1/2014 0:20:00|40.7448|-73.9799|B02512|\n",
      "|8/1/2014 0:21:00|40.7399|-74.0057|B02512|\n",
      "|8/1/2014 0:25:00|40.7651|-73.9683|B02512|\n",
      "|8/1/2014 0:27:00|40.7354|-74.0081|B02512|\n",
      "|8/1/2014 0:29:00|40.7339|-74.0028|B02512|\n",
      "|8/1/2014 0:29:00|40.7364|-74.0301|B02512|\n",
      "|8/1/2014 0:29:00|40.7364|-74.0301|B02512|\n",
      "|8/1/2014 0:30:00|40.7252|-73.9516|B02512|\n",
      "|8/1/2014 0:30:00|40.7433| -73.986|B02512|\n",
      "|8/1/2014 0:34:00|40.7437|-73.9884|B02512|\n",
      "|8/1/2014 0:36:00|40.7406|-74.0077|B02512|\n",
      "+----------------+-------+--------+------+\n",
      "only showing top 20 rows\n",
      "\n",
      "+------+------+\n",
      "|  Base| count|\n",
      "+------+------+\n",
      "|B02512| 31472|\n",
      "|B02598|220129|\n",
      "|B02682|173280|\n",
      "|B02617|355803|\n",
      "|B02764| 48591|\n",
      "+------+------+\n",
      "\n",
      "+-----------------+-----+\n",
      "|        Date/Time|count|\n",
      "+-----------------+-----+\n",
      "|8/1/2014 11:36:00|   25|\n",
      "|8/1/2014 13:42:00|   20|\n",
      "|8/1/2014 21:42:00|   37|\n",
      "| 8/2/2014 7:55:00|    7|\n",
      "|8/2/2014 17:00:00|   26|\n",
      "|8/2/2014 18:20:00|   28|\n",
      "|8/2/2014 19:52:00|   47|\n",
      "| 8/3/2014 0:34:00|   29|\n",
      "|8/3/2014 10:57:00|   27|\n",
      "|8/3/2014 15:43:00|   29|\n",
      "|8/3/2014 20:55:00|   17|\n",
      "|8/4/2014 11:22:00|   18|\n",
      "|8/4/2014 13:05:00|   18|\n",
      "|8/4/2014 15:44:00|   24|\n",
      "|8/4/2014 20:29:00|   30|\n",
      "|8/4/2014 22:31:00|   11|\n",
      "|8/4/2014 22:45:00|   18|\n",
      "| 8/5/2014 7:46:00|   21|\n",
      "|8/5/2014 11:10:00|   17|\n",
      "|8/6/2014 11:02:00|   24|\n",
      "+-----------------+-----+\n",
      "only showing top 20 rows\n",
      "\n",
      "root\n",
      " |-- Date/Time: string (nullable = true)\n",
      " |-- Lat: double (nullable = true)\n",
      " |-- Lon: double (nullable = true)\n",
      " |-- Base: string (nullable = true)\n",
      "\n",
      "+----------------+-------+--------+------+------+\n",
      "|       Date/Time|    Lat|     Lon|  Base|Base_N|\n",
      "+----------------+-------+--------+------+------+\n",
      "|8/1/2014 0:03:00|40.7366|-73.9906|B02512|   4.0|\n",
      "|8/1/2014 0:09:00| 40.726|-73.9918|B02512|   4.0|\n",
      "|8/1/2014 0:12:00|40.7209|-74.0507|B02512|   4.0|\n",
      "|8/1/2014 0:12:00|40.7387|-73.9856|B02512|   4.0|\n",
      "|8/1/2014 0:12:00|40.7323|-74.0077|B02512|   4.0|\n",
      "|8/1/2014 0:13:00|40.7349|-74.0033|B02512|   4.0|\n",
      "|8/1/2014 0:15:00|40.7279|-73.9542|B02512|   4.0|\n",
      "|8/1/2014 0:17:00| 40.721|-73.9937|B02512|   4.0|\n",
      "|8/1/2014 0:19:00|40.7195| -74.006|B02512|   4.0|\n",
      "|8/1/2014 0:20:00|40.7448|-73.9799|B02512|   4.0|\n",
      "|8/1/2014 0:21:00|40.7399|-74.0057|B02512|   4.0|\n",
      "|8/1/2014 0:25:00|40.7651|-73.9683|B02512|   4.0|\n",
      "|8/1/2014 0:27:00|40.7354|-74.0081|B02512|   4.0|\n",
      "|8/1/2014 0:29:00|40.7339|-74.0028|B02512|   4.0|\n",
      "|8/1/2014 0:29:00|40.7364|-74.0301|B02512|   4.0|\n",
      "|8/1/2014 0:29:00|40.7364|-74.0301|B02512|   4.0|\n",
      "|8/1/2014 0:30:00|40.7252|-73.9516|B02512|   4.0|\n",
      "|8/1/2014 0:30:00|40.7433| -73.986|B02512|   4.0|\n",
      "|8/1/2014 0:34:00|40.7437|-73.9884|B02512|   4.0|\n",
      "|8/1/2014 0:36:00|40.7406|-74.0077|B02512|   4.0|\n",
      "+----------------+-------+--------+------+------+\n",
      "only showing top 20 rows\n",
      "\n"
     ]
    },
    {
     "name": "stderr",
     "output_type": "stream",
     "text": [
      "                                                                                \r"
     ]
    },
    {
     "name": "stdout",
     "output_type": "stream",
     "text": [
      "k2\t0.47938024903641385\t\n"
     ]
    },
    {
     "name": "stderr",
     "output_type": "stream",
     "text": [
      "                                                                                \r"
     ]
    },
    {
     "name": "stdout",
     "output_type": "stream",
     "text": [
      "k3\t0.5464672423620176\t\n"
     ]
    },
    {
     "name": "stderr",
     "output_type": "stream",
     "text": [
      "                                                                                \r"
     ]
    },
    {
     "name": "stdout",
     "output_type": "stream",
     "text": [
      "k4\t0.4344781690508035\t\n"
     ]
    },
    {
     "name": "stderr",
     "output_type": "stream",
     "text": [
      "                                                                                \r"
     ]
    },
    {
     "name": "stdout",
     "output_type": "stream",
     "text": [
      "k5\t0.40582608080378774\t\n"
     ]
    },
    {
     "name": "stderr",
     "output_type": "stream",
     "text": [
      "                                                                                \r"
     ]
    },
    {
     "name": "stdout",
     "output_type": "stream",
     "text": [
      "k6\t0.3805012106587415\t\n"
     ]
    },
    {
     "name": "stderr",
     "output_type": "stream",
     "text": [
      "                                                                                \r"
     ]
    },
    {
     "name": "stdout",
     "output_type": "stream",
     "text": [
      "k7\t0.4583674926980751\t\n"
     ]
    },
    {
     "name": "stderr",
     "output_type": "stream",
     "text": [
      "                                                                                \r"
     ]
    },
    {
     "name": "stdout",
     "output_type": "stream",
     "text": [
      "k8\t0.39482754966466754\t\n"
     ]
    },
    {
     "name": "stderr",
     "output_type": "stream",
     "text": [
      "                                                                                \r"
     ]
    },
    {
     "name": "stdout",
     "output_type": "stream",
     "text": [
      "k9\t0.43942988991675513\t\n"
     ]
    },
    {
     "name": "stderr",
     "output_type": "stream",
     "text": [
      "                                                                                \r"
     ]
    },
    {
     "name": "stdout",
     "output_type": "stream",
     "text": [
      "k10\t0.5172072705359402\t\n"
     ]
    },
    {
     "name": "stderr",
     "output_type": "stream",
     "text": [
      "                                                                                \r"
     ]
    }
   ],
   "source": [
    "import findspark\n",
    "findspark.init('/opt/spark/')\n",
    "findspark.find()\n",
    "from pyspark.sql import SparkSession\n",
    "\n",
    "spark = SparkSession.builder.appName(\"K_mean\").getOrCreate()\n",
    "\n",
    "df = spark.read.csv(\"uber-raw-data-aug14.csv\",header=True)\n",
    "\n",
    "\n",
    "\n",
    "\n",
    "\n",
    "df.show()\n",
    "\n",
    "df = spark.read.csv(\"uber-raw-data-aug14.csv\", inferSchema=True, header=True)\n",
    "df.groupBy(\"Base\").count().show()\n",
    "df.groupBy(\"Date/Time\").count().show()\n",
    "df.printSchema()\n",
    "from pyspark.ml.feature import StringIndexer\n",
    "\n",
    "\n",
    "indexer=StringIndexer(inputCol='Base',outputCol='Base'+\"_N\")\n",
    "df=indexer.fit(df).transform(df)\n",
    "df.show()\n",
    "from pyspark.ml.linalg import Vectors\n",
    "from pyspark.ml.feature import VectorAssembler\n",
    "df.columns\n",
    "feat_cols = ['Lat', 'Lon','Base_N']\n",
    "assembler = VectorAssembler(inputCols=feat_cols, outputCol='features')\n",
    "final_df = assembler.transform(df)\n",
    "from pyspark.ml.feature import StandardScaler\n",
    "scaler = StandardScaler(inputCol='features',outputCol='scaled_feat',withStd=True,withMean = False)\n",
    "scaled_model =scaler.fit(final_df)\n",
    "cluster_df= scaled_model.transform(final_df)\n",
    "from pyspark.ml.clustering import KMeans\n",
    "from pyspark.ml.evaluation import ClusteringEvaluator\n",
    "\n",
    "eval = ClusteringEvaluator(predictionCol=\"prediction\",featuresCol=\"scaled_feat\",metricName=\"silhouette\",distanceMeasure=\"squaredEuclidean\")\n",
    "\n",
    "\n",
    "silhouette_score =[]\n",
    "\n",
    "\n",
    "\n",
    "\n",
    "for k in range(2,11):\n",
    "    kmeans_algo = KMeans(featuresCol='scaled_feat',k=k)\n",
    "    kmeans_fit = kmeans_algo.fit(cluster_df)\n",
    "    output = kmeans_fit.transform(cluster_df)\n",
    "    score=eval.evaluate(output)\n",
    "    silhouette_score.append(score)\n",
    "    print(f\"k{k}\\t{(score)}\\t\")\n",
    "\n",
    "\n",
    "\n",
    "training_data, test_data = cluster_df.randomSplit([0.8, 0.2], seed=70)\n",
    "\n",
    "kmeans = KMeans().setK(3).setSeed(20)\n",
    "model = kmeans.fit(training_data)\n",
    "\n",
    "\n",
    "from pyspark.ml.clustering import KMeans\n",
    "\n",
    "kmeans = KMeans().setK(3).setSeed(20)\n",
    "model = kmeans.fit(training_data)\n",
    "model.save(\"kmeans_model_k5.model\")\n",
    "\n"
   ]
  },
  {
   "cell_type": "code",
   "execution_count": 4,
   "id": "1d40f58e",
   "metadata": {},
   "outputs": [],
   "source": [
    "from kafka import KafkaProducer, KafkaConsumer\n",
    "from pyspark.sql.functions import from_json\n",
    "from pyspark.sql.types import *\n",
    "\n",
    "# create a Kafka producer to produce test data\n",
    "producer = KafkaProducer(bootstrap_servers=['localhost:9092'])"
   ]
  },
  {
   "cell_type": "code",
   "execution_count": 5,
   "id": "44986955",
   "metadata": {},
   "outputs": [
    {
     "name": "stderr",
     "output_type": "stream",
     "text": [
      "                                                                                \r"
     ]
    },
    {
     "name": "stdout",
     "output_type": "stream",
     "text": [
      "{\"Date/Time\":\"8/1/2014 0:00:00\",\"Lat\":40.729,\"Lon\":-73.9422,\"Base\":\"B02598\",\"Base_N\":1.0,\"features\":{\"type\":1,\"values\":[40.729,-73.9422,1.0]},\"scaled_feat\":{\"type\":1,\"values\":[933.5505454380506,-1202.6499472319315,0.9076564359470978]}}\n",
      "{\"Date/Time\":\"8/1/2014 0:00:00\",\"Lat\":40.7424,\"Lon\":-74.0044,\"Base\":\"B02598\",\"Base_N\":1.0,\"features\":{\"type\":1,\"values\":[40.7424,-74.0044,1.0]},\"scaled_feat\":{\"type\":1,\"values\":[933.8576872119431,-1203.6616134620115,0.9076564359470978]}}\n",
      "{\"Date/Time\":\"8/1/2014 0:01:00\",\"Lat\":40.6906,\"Lon\":-73.9933,\"Base\":\"B02598\",\"Base_N\":1.0,\"features\":{\"type\":1,\"values\":[40.6906,-73.9933,1.0]},\"scaled_feat\":{\"type\":1,\"values\":[932.6703779665974,-1203.4810749547144,0.9076564359470978]}}\n",
      "{\"Date/Time\":\"8/1/2014 0:01:00\",\"Lat\":40.7052,\"Lon\":-74.0094,\"Base\":\"B02598\",\"Base_N\":1.0,\"features\":{\"type\":1,\"values\":[40.7052,-74.0094,1.0]},\"scaled_feat\":{\"type\":1,\"values\":[933.0050249739727,-1203.7429371139472,0.9076564359470978]}}\n",
      "{\"Date/Time\":\"8/1/2014 0:01:00\",\"Lat\":40.7403,\"Lon\":-74.0081,\"Base\":\"B02598\",\"Base_N\":1.0,\"features\":{\"type\":1,\"values\":[40.7403,-74.0081,1.0]},\"scaled_feat\":{\"type\":1,\"values\":[933.8095530533479,-1203.721792964444,0.9076564359470978]}}\n",
      "{\"Date/Time\":\"8/1/2014 0:01:00\",\"Lat\":40.7686,\"Lon\":-73.9697,\"Base\":\"B02598\",\"Base_N\":1.0,\"features\":{\"type\":1,\"values\":[40.7686,-73.9697,1.0]},\"scaled_feat\":{\"type\":1,\"values\":[934.4582181429868,-1203.0972273175778,0.9076564359470978]}}\n",
      "{\"Date/Time\":\"8/1/2014 0:02:00\",\"Lat\":40.8656,\"Lon\":-73.9274,\"Base\":\"B02598\",\"Base_N\":1.0,\"features\":{\"type\":1,\"values\":[40.8656,-73.9274,1.0]},\"scaled_feat\":{\"type\":1,\"values\":[936.6815578495224,-1202.409229222202,0.9076564359470978]}}\n",
      "{\"Date/Time\":\"8/1/2014 0:06:00\",\"Lat\":40.7069,\"Lon\":-73.9505,\"Base\":\"B02598\",\"Base_N\":1.0,\"features\":{\"type\":1,\"values\":[40.7069,-73.9505,1.0]},\"scaled_feat\":{\"type\":1,\"values\":[933.0439907214068,-1202.7849444941448,0.9076564359470978]}}\n",
      "{\"Date/Time\":\"8/1/2014 0:06:00\",\"Lat\":40.733,\"Lon\":-73.9875,\"Base\":\"B02598\",\"Base_N\":1.0,\"features\":{\"type\":1,\"values\":[40.733,-73.9875,1.0]},\"scaled_feat\":{\"type\":1,\"values\":[933.6422295496602,-1203.3867395184689,0.9076564359470978]}}\n",
      "{\"Date/Time\":\"8/1/2014 0:07:00\",\"Lat\":40.7952,\"Lon\":-73.9634,\"Base\":\"B02598\",\"Base_N\":1.0,\"features\":{\"type\":1,\"values\":[40.7952,-73.9634,1.0]},\"scaled_feat\":{\"type\":1,\"values\":[935.0679174851914,-1202.9947595161386,0.9076564359470978]}}\n",
      "{\"Date/Time\":\"8/1/2014 0:08:00\",\"Lat\":40.7259,\"Lon\":-73.9897,\"Base\":\"B02598\",\"Base_N\":1.0,\"features\":{\"type\":1,\"values\":[40.7259,-73.9897,1.0]},\"scaled_feat\":{\"type\":1,\"values\":[933.4794902515531,-1203.4225219253206,0.9076564359470978]}}\n",
      "{\"Date/Time\":\"8/1/2014 0:09:00\",\"Lat\":40.726,\"Lon\":-73.9918,\"Base\":\"B02512\",\"Base_N\":4.0,\"features\":{\"type\":1,\"values\":[40.726,-73.9918,4.0]},\"scaled_feat\":{\"type\":1,\"values\":[933.4817823543432,-1203.4566778591336,3.630625743788391]}}\n",
      "{\"Date/Time\":\"8/1/2014 0:09:00\",\"Lat\":40.7406,\"Lon\":-74.0056,\"Base\":\"B02598\",\"Base_N\":1.0,\"features\":{\"type\":1,\"values\":[40.7406,-74.0056,1.0]},\"scaled_feat\":{\"type\":1,\"values\":[933.8164293617187,-1203.681131138476,0.9076564359470978]}}\n",
      "{\"Date/Time\":\"8/1/2014 0:11:00\",\"Lat\":40.7432,\"Lon\":-73.98,\"Base\":\"B02598\",\"Base_N\":1.0,\"features\":{\"type\":1,\"values\":[40.7432,-73.98,1.0]},\"scaled_feat\":{\"type\":1,\"values\":[933.8760240342651,-1203.2647540405653,0.9076564359470978]}}\n",
      "{\"Date/Time\":\"8/1/2014 0:12:00\",\"Lat\":40.7198,\"Lon\":-74.0058,\"Base\":\"B02598\",\"Base_N\":1.0,\"features\":{\"type\":1,\"values\":[40.7198,-74.0058,1.0]},\"scaled_feat\":{\"type\":1,\"values\":[933.3396719813481,-1203.6843840845534,0.9076564359470978]}}\n",
      "{\"Date/Time\":\"8/1/2014 0:15:00\",\"Lat\":40.7223,\"Lon\":-73.9887,\"Base\":\"B02598\",\"Base_N\":1.0,\"features\":{\"type\":1,\"values\":[40.7223,-73.9887,1.0]},\"scaled_feat\":{\"type\":1,\"values\":[933.3969745511042,-1203.4062571949332,0.9076564359470978]}}\n",
      "{\"Date/Time\":\"8/1/2014 0:15:00\",\"Lat\":40.7535,\"Lon\":-73.9721,\"Base\":\"B02598\",\"Base_N\":1.0,\"features\":{\"type\":1,\"values\":[40.7535,-73.9721,1.0]},\"scaled_feat\":{\"type\":1,\"values\":[934.1121106216601,-1203.1362626705068,0.9076564359470978]}}\n",
      "{\"Date/Time\":\"8/1/2014 0:16:00\",\"Lat\":40.7406,\"Lon\":-74.0046,\"Base\":\"B02598\",\"Base_N\":1.0,\"features\":{\"type\":1,\"values\":[40.7406,-74.0046,1.0]},\"scaled_feat\":{\"type\":1,\"values\":[933.8164293617187,-1203.664866408089,0.9076564359470978]}}\n",
      "{\"Date/Time\":\"8/1/2014 0:17:00\",\"Lat\":40.7231,\"Lon\":-74.0009,\"Base\":\"B02598\",\"Base_N\":1.0,\"features\":{\"type\":1,\"values\":[40.7231,-74.0009,1.0]},\"scaled_feat\":{\"type\":1,\"values\":[933.4153113734262,-1203.6046869056565,0.9076564359470978]}}\n",
      "{\"Date/Time\":\"8/1/2014 0:18:00\",\"Lat\":40.6516,\"Lon\":-73.9523,\"Base\":\"B02598\",\"Base_N\":1.0,\"features\":{\"type\":1,\"values\":[40.6516,-73.9523,1.0]},\"scaled_feat\":{\"type\":1,\"values\":[931.7764578784025,-1202.8142210088415,0.9076564359470978]}}\n",
      "{\"Date/Time\":\"8/1/2014 0:18:00\",\"Lat\":40.7622,\"Lon\":-73.9965,\"Base\":\"B02598\",\"Base_N\":1.0,\"features\":{\"type\":1,\"values\":[40.7622,-73.9965,1.0]},\"scaled_feat\":{\"type\":1,\"values\":[934.3115235644112,-1203.5331220919531,0.9076564359470978]}}\n",
      "{\"Date/Time\":\"8/1/2014 0:21:00\",\"Lat\":40.7399,\"Lon\":-74.0057,\"Base\":\"B02512\",\"Base_N\":4.0,\"features\":{\"type\":1,\"values\":[40.7399,-74.0057,4.0]},\"scaled_feat\":{\"type\":1,\"values\":[933.8003846421869,-1203.682757611515,3.630625743788391]}}\n",
      "{\"Date/Time\":\"8/1/2014 0:21:00\",\"Lat\":40.7575,\"Lon\":-73.9824,\"Base\":\"B02598\",\"Base_N\":1.0,\"features\":{\"type\":1,\"values\":[40.7575,-73.9824,1.0]},\"scaled_feat\":{\"type\":1,\"values\":[934.2037947332698,-1203.3037893934945,0.9076564359470978]}}\n",
      "{\"Date/Time\":\"8/1/2014 0:25:00\",\"Lat\":40.7262,\"Lon\":-73.8483,\"Base\":\"B02598\",\"Base_N\":1.0,\"features\":{\"type\":1,\"values\":[40.7262,-73.8483,1.0]},\"scaled_feat\":{\"type\":1,\"values\":[933.4863665599237,-1201.1226890485789,0.9076564359470978]}}\n",
      "{\"Date/Time\":\"8/1/2014 0:28:00\",\"Lat\":40.719,\"Lon\":-73.9964,\"Base\":\"B02598\",\"Base_N\":1.0,\"features\":{\"type\":1,\"values\":[40.719,-73.9964,1.0]},\"scaled_feat\":{\"type\":1,\"values\":[933.3213351590263,-1203.5314956189143,0.9076564359470978]}}\n",
      "{\"Date/Time\":\"8/1/2014 0:28:00\",\"Lat\":40.8251,\"Lon\":-74.1376,\"Base\":\"B02598\",\"Base_N\":1.0,\"features\":{\"type\":1,\"values\":[40.8251,-74.1376,1.0]},\"scaled_feat\":{\"type\":1,\"values\":[935.753256219474,-1205.8280755495787,0.9076564359470978]}}\n",
      "{\"Date/Time\":\"8/1/2014 0:29:00\",\"Lat\":40.7252,\"Lon\":-73.989,\"Base\":\"B02598\",\"Base_N\":1.0,\"features\":{\"type\":1,\"values\":[40.7252,-73.989,1.0]},\"scaled_feat\":{\"type\":1,\"values\":[933.4634455320213,-1203.4111366140496,0.9076564359470978]}}\n",
      "{\"Date/Time\":\"8/1/2014 0:29:00\",\"Lat\":40.7412,\"Lon\":-74.0083,\"Base\":\"B02598\",\"Base_N\":1.0,\"features\":{\"type\":1,\"values\":[40.7412,-74.0083,1.0]},\"scaled_feat\":{\"type\":1,\"values\":[933.8301819784601,-1203.7250459105214,0.9076564359470978]}}\n",
      "{\"Date/Time\":\"8/1/2014 0:37:00\",\"Lat\":40.7338,\"Lon\":-74.0026,\"Base\":\"B02598\",\"Base_N\":1.0,\"features\":{\"type\":1,\"values\":[40.7338,-74.0026,1.0]},\"scaled_feat\":{\"type\":1,\"values\":[933.6605663719822,-1203.6323369473146,0.9076564359470978]}}\n"
     ]
    },
    {
     "ename": "KeyboardInterrupt",
     "evalue": "",
     "output_type": "error",
     "traceback": [
      "\u001b[0;31m---------------------------------------------------------------------------\u001b[0m",
      "\u001b[0;31mKeyboardInterrupt\u001b[0m                         Traceback (most recent call last)",
      "Cell \u001b[0;32mIn[5], line 15\u001b[0m\n\u001b[1;32m     13\u001b[0m \u001b[38;5;28;01mfor\u001b[39;00m data \u001b[38;5;129;01min\u001b[39;00m test_data_json:\n\u001b[1;32m     14\u001b[0m     producer\u001b[38;5;241m.\u001b[39msend(\u001b[38;5;124m'\u001b[39m\u001b[38;5;124mtest_topic\u001b[39m\u001b[38;5;124m'\u001b[39m, value\u001b[38;5;241m=\u001b[39mdata[\u001b[38;5;124m'\u001b[39m\u001b[38;5;124mvalue\u001b[39m\u001b[38;5;124m'\u001b[39m])\n\u001b[0;32m---> 15\u001b[0m     \u001b[43msleep\u001b[49m\u001b[43m(\u001b[49m\u001b[38;5;241;43m1\u001b[39;49m\u001b[43m)\u001b[49m\n\u001b[1;32m     16\u001b[0m     \u001b[38;5;28mprint\u001b[39m(\u001b[38;5;124mf\u001b[39m\u001b[38;5;124m\"\u001b[39m\u001b[38;5;132;01m{\u001b[39;00mdata[\u001b[38;5;124m'\u001b[39m\u001b[38;5;124mvalue\u001b[39m\u001b[38;5;124m'\u001b[39m]\u001b[38;5;132;01m}\u001b[39;00m\u001b[38;5;124m\"\u001b[39m)\n",
      "\u001b[0;31mKeyboardInterrupt\u001b[0m: "
     ]
    }
   ],
   "source": [
    "from pyspark.sql.functions import to_json, struct\n",
    "from kafka import KafkaProducer\n",
    "import json\n",
    "from time import sleep\n",
    "\n",
    "# create a Kafka producer\n",
    "producer = KafkaProducer(bootstrap_servers=['localhost:9092'], \n",
    "                         value_serializer=lambda v: json.dumps(v).encode('utf-8'))\n",
    "\n",
    "# convert the test_data to a JSON string\n",
    "test_data_json = test_data.select(to_json(struct([test_data[x] for x in test_data.columns])).alias(\"value\")).collect()\n",
    "\n",
    "for data in test_data_json:\n",
    "    producer.send('test_topic', value=data['value'])\n",
    "    sleep(1)\n",
    "    print(f\"{data['value']}\")"
   ]
  },
  {
   "cell_type": "code",
   "execution_count": 6,
   "id": "9aed2fd2",
   "metadata": {},
   "outputs": [
    {
     "name": "stdout",
     "output_type": "stream",
     "text": [
      "+--------------------+----------+\n",
      "|            features|prediction|\n",
      "+--------------------+----------+\n",
      "|[40.729,-73.9422,...|         2|\n",
      "+--------------------+----------+\n",
      "\n",
      "+--------------------+----------+\n",
      "|            features|prediction|\n",
      "+--------------------+----------+\n",
      "|[40.7424,-74.0044...|         2|\n",
      "+--------------------+----------+\n",
      "\n",
      "+--------------------+----------+\n",
      "|            features|prediction|\n",
      "+--------------------+----------+\n",
      "|[40.6906,-73.9933...|         2|\n",
      "+--------------------+----------+\n",
      "\n",
      "+--------------------+----------+\n",
      "|            features|prediction|\n",
      "+--------------------+----------+\n",
      "|[40.7052,-74.0094...|         2|\n",
      "+--------------------+----------+\n",
      "\n",
      "+--------------------+----------+\n",
      "|            features|prediction|\n",
      "+--------------------+----------+\n",
      "|[40.7403,-74.0081...|         2|\n",
      "+--------------------+----------+\n",
      "\n",
      "+--------------------+----------+\n",
      "|            features|prediction|\n",
      "+--------------------+----------+\n",
      "|[40.7686,-73.9697...|         2|\n",
      "+--------------------+----------+\n",
      "\n",
      "+--------------------+----------+\n",
      "|            features|prediction|\n",
      "+--------------------+----------+\n",
      "|[40.8656,-73.9274...|         2|\n",
      "+--------------------+----------+\n",
      "\n",
      "+--------------------+----------+\n",
      "|            features|prediction|\n",
      "+--------------------+----------+\n",
      "|[40.7069,-73.9505...|         2|\n",
      "+--------------------+----------+\n",
      "\n",
      "+--------------------+----------+\n",
      "|            features|prediction|\n",
      "+--------------------+----------+\n",
      "|[40.733,-73.9875,...|         2|\n",
      "+--------------------+----------+\n",
      "\n",
      "+--------------------+----------+\n",
      "|            features|prediction|\n",
      "+--------------------+----------+\n",
      "|[40.7952,-73.9634...|         2|\n",
      "+--------------------+----------+\n",
      "\n",
      "+--------------------+----------+\n",
      "|            features|prediction|\n",
      "+--------------------+----------+\n",
      "|[40.7259,-73.9897...|         2|\n",
      "+--------------------+----------+\n",
      "\n",
      "+--------------------+----------+\n",
      "|            features|prediction|\n",
      "+--------------------+----------+\n",
      "|[40.726,-73.9918,...|         0|\n",
      "+--------------------+----------+\n",
      "\n",
      "+--------------------+----------+\n",
      "|            features|prediction|\n",
      "+--------------------+----------+\n",
      "|[40.7406,-74.0056...|         2|\n",
      "+--------------------+----------+\n",
      "\n",
      "+--------------------+----------+\n",
      "|            features|prediction|\n",
      "+--------------------+----------+\n",
      "|[40.7432,-73.98,1.0]|         2|\n",
      "+--------------------+----------+\n",
      "\n",
      "+--------------------+----------+\n",
      "|            features|prediction|\n",
      "+--------------------+----------+\n",
      "|[40.7198,-74.0058...|         2|\n",
      "+--------------------+----------+\n",
      "\n",
      "+--------------------+----------+\n",
      "|            features|prediction|\n",
      "+--------------------+----------+\n",
      "|[40.7223,-73.9887...|         2|\n",
      "+--------------------+----------+\n",
      "\n",
      "+--------------------+----------+\n",
      "|            features|prediction|\n",
      "+--------------------+----------+\n",
      "|[40.7535,-73.9721...|         2|\n",
      "+--------------------+----------+\n",
      "\n",
      "+--------------------+----------+\n",
      "|            features|prediction|\n",
      "+--------------------+----------+\n",
      "|[40.7406,-74.0046...|         2|\n",
      "+--------------------+----------+\n",
      "\n",
      "+--------------------+----------+\n",
      "|            features|prediction|\n",
      "+--------------------+----------+\n",
      "|[40.7231,-74.0009...|         2|\n",
      "+--------------------+----------+\n",
      "\n",
      "+--------------------+----------+\n",
      "|            features|prediction|\n",
      "+--------------------+----------+\n",
      "|[40.6516,-73.9523...|         2|\n",
      "+--------------------+----------+\n",
      "\n",
      "+--------------------+----------+\n",
      "|            features|prediction|\n",
      "+--------------------+----------+\n",
      "|[40.7622,-73.9965...|         2|\n",
      "+--------------------+----------+\n",
      "\n",
      "+--------------------+----------+\n",
      "|            features|prediction|\n",
      "+--------------------+----------+\n",
      "|[40.7399,-74.0057...|         0|\n",
      "+--------------------+----------+\n",
      "\n",
      "+--------------------+----------+\n",
      "|            features|prediction|\n",
      "+--------------------+----------+\n",
      "|[40.7575,-73.9824...|         2|\n",
      "+--------------------+----------+\n",
      "\n",
      "+--------------------+----------+\n",
      "|            features|prediction|\n",
      "+--------------------+----------+\n",
      "|[40.7262,-73.8483...|         2|\n",
      "+--------------------+----------+\n",
      "\n",
      "+--------------------+----------+\n",
      "|            features|prediction|\n",
      "+--------------------+----------+\n",
      "|[40.719,-73.9964,...|         2|\n",
      "+--------------------+----------+\n",
      "\n",
      "+--------------------+----------+\n",
      "|            features|prediction|\n",
      "+--------------------+----------+\n",
      "|[40.8251,-74.1376...|         2|\n",
      "+--------------------+----------+\n",
      "\n",
      "+--------------------+----------+\n",
      "|            features|prediction|\n",
      "+--------------------+----------+\n",
      "|[40.7252,-73.989,...|         2|\n",
      "+--------------------+----------+\n",
      "\n",
      "+--------------------+----------+\n",
      "|            features|prediction|\n",
      "+--------------------+----------+\n",
      "|[40.7412,-74.0083...|         2|\n",
      "+--------------------+----------+\n",
      "\n",
      "+--------------------+----------+\n",
      "|            features|prediction|\n",
      "+--------------------+----------+\n",
      "|[40.7338,-74.0026...|         2|\n",
      "+--------------------+----------+\n",
      "\n",
      "+--------------------+----------+\n",
      "|            features|prediction|\n",
      "+--------------------+----------+\n",
      "|[40.7671,-73.9879...|         2|\n",
      "+--------------------+----------+\n",
      "\n"
     ]
    },
    {
     "ename": "KeyboardInterrupt",
     "evalue": "",
     "output_type": "error",
     "traceback": [
      "\u001b[0;31m---------------------------------------------------------------------------\u001b[0m",
      "\u001b[0;31mKeyboardInterrupt\u001b[0m                         Traceback (most recent call last)",
      "Cell \u001b[0;32mIn[6], line 15\u001b[0m\n\u001b[1;32m      9\u001b[0m \u001b[38;5;66;03m# create a Kafka consumer\u001b[39;00m\n\u001b[1;32m     10\u001b[0m consumer \u001b[38;5;241m=\u001b[39m KafkaConsumer(\u001b[38;5;124m'\u001b[39m\u001b[38;5;124mtest_topic\u001b[39m\u001b[38;5;124m'\u001b[39m, bootstrap_servers\u001b[38;5;241m=\u001b[39m[\u001b[38;5;124m'\u001b[39m\u001b[38;5;124mlocalhost:9092\u001b[39m\u001b[38;5;124m'\u001b[39m],\n\u001b[1;32m     11\u001b[0m                          auto_offset_reset\u001b[38;5;241m=\u001b[39m\u001b[38;5;124m'\u001b[39m\u001b[38;5;124mearliest\u001b[39m\u001b[38;5;124m'\u001b[39m, \n\u001b[1;32m     12\u001b[0m                          enable_auto_commit\u001b[38;5;241m=\u001b[39m\u001b[38;5;28;01mTrue\u001b[39;00m, \n\u001b[1;32m     13\u001b[0m                          value_deserializer\u001b[38;5;241m=\u001b[39m\u001b[38;5;28;01mlambda\u001b[39;00m m: json\u001b[38;5;241m.\u001b[39mloads(m\u001b[38;5;241m.\u001b[39mdecode(\u001b[38;5;124m'\u001b[39m\u001b[38;5;124mutf-8\u001b[39m\u001b[38;5;124m'\u001b[39m)))\n\u001b[0;32m---> 15\u001b[0m \u001b[38;5;28;01mfor\u001b[39;00m message \u001b[38;5;129;01min\u001b[39;00m consumer:\n\u001b[1;32m     17\u001b[0m     data \u001b[38;5;241m=\u001b[39m message\u001b[38;5;241m.\u001b[39mvalue\n\u001b[1;32m     18\u001b[0m     json_object \u001b[38;5;241m=\u001b[39m json\u001b[38;5;241m.\u001b[39mloads(data)\n",
      "File \u001b[0;32m~/.local/lib/python3.10/site-packages/kafka/consumer/group.py:1193\u001b[0m, in \u001b[0;36mKafkaConsumer.__next__\u001b[0;34m(self)\u001b[0m\n\u001b[1;32m   1191\u001b[0m     \u001b[38;5;28;01mreturn\u001b[39;00m \u001b[38;5;28mself\u001b[39m\u001b[38;5;241m.\u001b[39mnext_v1()\n\u001b[1;32m   1192\u001b[0m \u001b[38;5;28;01melse\u001b[39;00m:\n\u001b[0;32m-> 1193\u001b[0m     \u001b[38;5;28;01mreturn\u001b[39;00m \u001b[38;5;28;43mself\u001b[39;49m\u001b[38;5;241;43m.\u001b[39;49m\u001b[43mnext_v2\u001b[49m\u001b[43m(\u001b[49m\u001b[43m)\u001b[49m\n",
      "File \u001b[0;32m~/.local/lib/python3.10/site-packages/kafka/consumer/group.py:1201\u001b[0m, in \u001b[0;36mKafkaConsumer.next_v2\u001b[0;34m(self)\u001b[0m\n\u001b[1;32m   1199\u001b[0m     \u001b[38;5;28mself\u001b[39m\u001b[38;5;241m.\u001b[39m_iterator \u001b[38;5;241m=\u001b[39m \u001b[38;5;28mself\u001b[39m\u001b[38;5;241m.\u001b[39m_message_generator_v2()\n\u001b[1;32m   1200\u001b[0m \u001b[38;5;28;01mtry\u001b[39;00m:\n\u001b[0;32m-> 1201\u001b[0m     \u001b[38;5;28;01mreturn\u001b[39;00m \u001b[38;5;28;43mnext\u001b[39;49m\u001b[43m(\u001b[49m\u001b[38;5;28;43mself\u001b[39;49m\u001b[38;5;241;43m.\u001b[39;49m\u001b[43m_iterator\u001b[49m\u001b[43m)\u001b[49m\n\u001b[1;32m   1202\u001b[0m \u001b[38;5;28;01mexcept\u001b[39;00m \u001b[38;5;167;01mStopIteration\u001b[39;00m:\n\u001b[1;32m   1203\u001b[0m     \u001b[38;5;28mself\u001b[39m\u001b[38;5;241m.\u001b[39m_iterator \u001b[38;5;241m=\u001b[39m \u001b[38;5;28;01mNone\u001b[39;00m\n",
      "File \u001b[0;32m~/.local/lib/python3.10/site-packages/kafka/consumer/group.py:1116\u001b[0m, in \u001b[0;36mKafkaConsumer._message_generator_v2\u001b[0;34m(self)\u001b[0m\n\u001b[1;32m   1114\u001b[0m \u001b[38;5;28;01mdef\u001b[39;00m \u001b[38;5;21m_message_generator_v2\u001b[39m(\u001b[38;5;28mself\u001b[39m):\n\u001b[1;32m   1115\u001b[0m     timeout_ms \u001b[38;5;241m=\u001b[39m \u001b[38;5;241m1000\u001b[39m \u001b[38;5;241m*\u001b[39m (\u001b[38;5;28mself\u001b[39m\u001b[38;5;241m.\u001b[39m_consumer_timeout \u001b[38;5;241m-\u001b[39m time\u001b[38;5;241m.\u001b[39mtime())\n\u001b[0;32m-> 1116\u001b[0m     record_map \u001b[38;5;241m=\u001b[39m \u001b[38;5;28;43mself\u001b[39;49m\u001b[38;5;241;43m.\u001b[39;49m\u001b[43mpoll\u001b[49m\u001b[43m(\u001b[49m\u001b[43mtimeout_ms\u001b[49m\u001b[38;5;241;43m=\u001b[39;49m\u001b[43mtimeout_ms\u001b[49m\u001b[43m,\u001b[49m\u001b[43m \u001b[49m\u001b[43mupdate_offsets\u001b[49m\u001b[38;5;241;43m=\u001b[39;49m\u001b[38;5;28;43;01mFalse\u001b[39;49;00m\u001b[43m)\u001b[49m\n\u001b[1;32m   1117\u001b[0m     \u001b[38;5;28;01mfor\u001b[39;00m tp, records \u001b[38;5;129;01min\u001b[39;00m six\u001b[38;5;241m.\u001b[39miteritems(record_map):\n\u001b[1;32m   1118\u001b[0m         \u001b[38;5;66;03m# Generators are stateful, and it is possible that the tp / records\u001b[39;00m\n\u001b[1;32m   1119\u001b[0m         \u001b[38;5;66;03m# here may become stale during iteration -- i.e., we seek to a\u001b[39;00m\n\u001b[1;32m   1120\u001b[0m         \u001b[38;5;66;03m# different offset, pause consumption, or lose assignment.\u001b[39;00m\n\u001b[1;32m   1121\u001b[0m         \u001b[38;5;28;01mfor\u001b[39;00m record \u001b[38;5;129;01min\u001b[39;00m records:\n\u001b[1;32m   1122\u001b[0m             \u001b[38;5;66;03m# is_fetchable(tp) should handle assignment changes and offset\u001b[39;00m\n\u001b[1;32m   1123\u001b[0m             \u001b[38;5;66;03m# resets; for all other changes (e.g., seeks) we'll rely on the\u001b[39;00m\n\u001b[1;32m   1124\u001b[0m             \u001b[38;5;66;03m# outer function destroying the existing iterator/generator\u001b[39;00m\n\u001b[1;32m   1125\u001b[0m             \u001b[38;5;66;03m# via self._iterator = None\u001b[39;00m\n",
      "File \u001b[0;32m~/.local/lib/python3.10/site-packages/kafka/consumer/group.py:655\u001b[0m, in \u001b[0;36mKafkaConsumer.poll\u001b[0;34m(self, timeout_ms, max_records, update_offsets)\u001b[0m\n\u001b[1;32m    653\u001b[0m remaining \u001b[38;5;241m=\u001b[39m timeout_ms\n\u001b[1;32m    654\u001b[0m \u001b[38;5;28;01mwhile\u001b[39;00m \u001b[38;5;28;01mTrue\u001b[39;00m:\n\u001b[0;32m--> 655\u001b[0m     records \u001b[38;5;241m=\u001b[39m \u001b[38;5;28;43mself\u001b[39;49m\u001b[38;5;241;43m.\u001b[39;49m\u001b[43m_poll_once\u001b[49m\u001b[43m(\u001b[49m\u001b[43mremaining\u001b[49m\u001b[43m,\u001b[49m\u001b[43m \u001b[49m\u001b[43mmax_records\u001b[49m\u001b[43m,\u001b[49m\u001b[43m \u001b[49m\u001b[43mupdate_offsets\u001b[49m\u001b[38;5;241;43m=\u001b[39;49m\u001b[43mupdate_offsets\u001b[49m\u001b[43m)\u001b[49m\n\u001b[1;32m    656\u001b[0m     \u001b[38;5;28;01mif\u001b[39;00m records:\n\u001b[1;32m    657\u001b[0m         \u001b[38;5;28;01mreturn\u001b[39;00m records\n",
      "File \u001b[0;32m~/.local/lib/python3.10/site-packages/kafka/consumer/group.py:702\u001b[0m, in \u001b[0;36mKafkaConsumer._poll_once\u001b[0;34m(self, timeout_ms, max_records, update_offsets)\u001b[0m\n\u001b[1;32m    699\u001b[0m     \u001b[38;5;28mself\u001b[39m\u001b[38;5;241m.\u001b[39m_client\u001b[38;5;241m.\u001b[39mpoll(timeout_ms\u001b[38;5;241m=\u001b[39m\u001b[38;5;241m0\u001b[39m)\n\u001b[1;32m    701\u001b[0m timeout_ms \u001b[38;5;241m=\u001b[39m \u001b[38;5;28mmin\u001b[39m(timeout_ms, \u001b[38;5;28mself\u001b[39m\u001b[38;5;241m.\u001b[39m_coordinator\u001b[38;5;241m.\u001b[39mtime_to_next_poll() \u001b[38;5;241m*\u001b[39m \u001b[38;5;241m1000\u001b[39m)\n\u001b[0;32m--> 702\u001b[0m \u001b[38;5;28;43mself\u001b[39;49m\u001b[38;5;241;43m.\u001b[39;49m\u001b[43m_client\u001b[49m\u001b[38;5;241;43m.\u001b[39;49m\u001b[43mpoll\u001b[49m\u001b[43m(\u001b[49m\u001b[43mtimeout_ms\u001b[49m\u001b[38;5;241;43m=\u001b[39;49m\u001b[43mtimeout_ms\u001b[49m\u001b[43m)\u001b[49m\n\u001b[1;32m    703\u001b[0m \u001b[38;5;66;03m# after the long poll, we should check whether the group needs to rebalance\u001b[39;00m\n\u001b[1;32m    704\u001b[0m \u001b[38;5;66;03m# prior to returning data so that the group can stabilize faster\u001b[39;00m\n\u001b[1;32m    705\u001b[0m \u001b[38;5;28;01mif\u001b[39;00m \u001b[38;5;28mself\u001b[39m\u001b[38;5;241m.\u001b[39m_coordinator\u001b[38;5;241m.\u001b[39mneed_rejoin():\n",
      "File \u001b[0;32m~/.local/lib/python3.10/site-packages/kafka/client_async.py:602\u001b[0m, in \u001b[0;36mKafkaClient.poll\u001b[0;34m(self, timeout_ms, future)\u001b[0m\n\u001b[1;32m    599\u001b[0m             timeout \u001b[38;5;241m=\u001b[39m \u001b[38;5;28mmin\u001b[39m(timeout, \u001b[38;5;28mself\u001b[39m\u001b[38;5;241m.\u001b[39mconfig[\u001b[38;5;124m'\u001b[39m\u001b[38;5;124mretry_backoff_ms\u001b[39m\u001b[38;5;124m'\u001b[39m])\n\u001b[1;32m    600\u001b[0m         timeout \u001b[38;5;241m=\u001b[39m \u001b[38;5;28mmax\u001b[39m(\u001b[38;5;241m0\u001b[39m, timeout)  \u001b[38;5;66;03m# avoid negative timeouts\u001b[39;00m\n\u001b[0;32m--> 602\u001b[0m     \u001b[38;5;28;43mself\u001b[39;49m\u001b[38;5;241;43m.\u001b[39;49m\u001b[43m_poll\u001b[49m\u001b[43m(\u001b[49m\u001b[43mtimeout\u001b[49m\u001b[43m \u001b[49m\u001b[38;5;241;43m/\u001b[39;49m\u001b[43m \u001b[49m\u001b[38;5;241;43m1000\u001b[39;49m\u001b[43m)\u001b[49m\n\u001b[1;32m    604\u001b[0m \u001b[38;5;66;03m# called without the lock to avoid deadlock potential\u001b[39;00m\n\u001b[1;32m    605\u001b[0m \u001b[38;5;66;03m# if handlers need to acquire locks\u001b[39;00m\n\u001b[1;32m    606\u001b[0m responses\u001b[38;5;241m.\u001b[39mextend(\u001b[38;5;28mself\u001b[39m\u001b[38;5;241m.\u001b[39m_fire_pending_completed_requests())\n",
      "File \u001b[0;32m~/.local/lib/python3.10/site-packages/kafka/client_async.py:634\u001b[0m, in \u001b[0;36mKafkaClient._poll\u001b[0;34m(self, timeout)\u001b[0m\n\u001b[1;32m    631\u001b[0m \u001b[38;5;28mself\u001b[39m\u001b[38;5;241m.\u001b[39m_register_send_sockets()\n\u001b[1;32m    633\u001b[0m start_select \u001b[38;5;241m=\u001b[39m time\u001b[38;5;241m.\u001b[39mtime()\n\u001b[0;32m--> 634\u001b[0m ready \u001b[38;5;241m=\u001b[39m \u001b[38;5;28;43mself\u001b[39;49m\u001b[38;5;241;43m.\u001b[39;49m\u001b[43m_selector\u001b[49m\u001b[38;5;241;43m.\u001b[39;49m\u001b[43mselect\u001b[49m\u001b[43m(\u001b[49m\u001b[43mtimeout\u001b[49m\u001b[43m)\u001b[49m\n\u001b[1;32m    635\u001b[0m end_select \u001b[38;5;241m=\u001b[39m time\u001b[38;5;241m.\u001b[39mtime()\n\u001b[1;32m    636\u001b[0m \u001b[38;5;28;01mif\u001b[39;00m \u001b[38;5;28mself\u001b[39m\u001b[38;5;241m.\u001b[39m_sensors:\n",
      "File \u001b[0;32m/usr/lib/python3.10/selectors.py:469\u001b[0m, in \u001b[0;36mEpollSelector.select\u001b[0;34m(self, timeout)\u001b[0m\n\u001b[1;32m    467\u001b[0m ready \u001b[38;5;241m=\u001b[39m []\n\u001b[1;32m    468\u001b[0m \u001b[38;5;28;01mtry\u001b[39;00m:\n\u001b[0;32m--> 469\u001b[0m     fd_event_list \u001b[38;5;241m=\u001b[39m \u001b[38;5;28;43mself\u001b[39;49m\u001b[38;5;241;43m.\u001b[39;49m\u001b[43m_selector\u001b[49m\u001b[38;5;241;43m.\u001b[39;49m\u001b[43mpoll\u001b[49m\u001b[43m(\u001b[49m\u001b[43mtimeout\u001b[49m\u001b[43m,\u001b[49m\u001b[43m \u001b[49m\u001b[43mmax_ev\u001b[49m\u001b[43m)\u001b[49m\n\u001b[1;32m    470\u001b[0m \u001b[38;5;28;01mexcept\u001b[39;00m \u001b[38;5;167;01mInterruptedError\u001b[39;00m:\n\u001b[1;32m    471\u001b[0m     \u001b[38;5;28;01mreturn\u001b[39;00m ready\n",
      "\u001b[0;31mKeyboardInterrupt\u001b[0m: "
     ]
    }
   ],
   "source": [
    "\n",
    "    \n",
    "from kafka import KafkaConsumer\n",
    "import json\n",
    "from pyspark.ml.clustering import KMeansModel\n",
    "import time\n",
    "\n",
    "# load the trained KMeans model from file/directory\n",
    "loaded_model = KMeansModel.load(\"kmeans_model_k3.model\")\n",
    "\n",
    "# create a Kafka consumer\n",
    "consumer = KafkaConsumer('test_topic', bootstrap_servers=['localhost:9092'],\n",
    "                         auto_offset_reset='earliest', \n",
    "                         enable_auto_commit=True, \n",
    "                         value_deserializer=lambda m: json.loads(m.decode('utf-8')))\n",
    "\n",
    "for message in consumer:\n",
    "    \n",
    "    data = message.value\n",
    "    json_object = json.loads(data)\n",
    "    df = spark.createDataFrame([(json_object['Lat'], json_object['Lon'],json_object['Base_N'])], ['Lat', 'Lon','Base_N'])\n",
    "    \n",
    "    # assemble the feature vectors\n",
    "    assembler = VectorAssembler(inputCols=[\"Lat\", \"Lon\",\"Base_N\"], outputCol=\"features\")\n",
    "    indexed = assembler.transform(df).select(\"features\")\n",
    "\n",
    "    predictions = loaded_model.transform(indexed)\n",
    "    \n",
    "    predictions.show()\n",
    "    \n"
   ]
  },
  {
   "cell_type": "code",
   "execution_count": null,
   "id": "6ec7026b",
   "metadata": {},
   "outputs": [],
   "source": []
  }
 ],
 "metadata": {
  "kernelspec": {
   "display_name": "Python 3 (ipykernel)",
   "language": "python",
   "name": "python3"
  },
  "language_info": {
   "codemirror_mode": {
    "name": "ipython",
    "version": 3
   },
   "file_extension": ".py",
   "mimetype": "text/x-python",
   "name": "python",
   "nbconvert_exporter": "python",
   "pygments_lexer": "ipython3",
   "version": "3.10.6"
  }
 },
 "nbformat": 4,
 "nbformat_minor": 5
}
