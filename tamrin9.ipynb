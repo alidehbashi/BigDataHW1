{
 "cells": [
  {
   "cell_type": "code",
   "execution_count": 1,
   "id": "63743a52",
   "metadata": {},
   "outputs": [
    {
     "name": "stdout",
     "output_type": "stream",
     "text": [
      "Index created successfully!\n"
     ]
    }
   ],
   "source": [
    "import requests\n",
    "\n",
    "endpoint = 'http://localhost:9200'\n",
    "index_name = 'boook'\n",
    "index_mapping = {\n",
    "    \"mappings\": {\n",
    "        \"properties\": {\n",
    "            \"title\": {\"type\": \"text\"},\n",
    "            \"url\": {\"type\": \"keyword\"},\n",
    "            \"contributors\": {\"type\": \"keyword\"},\n",
    "            \"date\": {\"type\": \"keyword\"},\n",
    "            \"format\": {\"type\": \"keyword\"},\n",
    "            \"full_text_url\": {\"type\": \"keyword\"},\n",
    "            \"trove_id\": {\"type\": \"keyword\"},\n",
    "            \"language\": {\"type\": \"keyword\"},\n",
    "            \"rights\": {\"type\": \"keyword\"},\n",
    "            \"pages\": {\"type\": \"integer\"},\n",
    "            \"form\": {\"type\": \"keyword\"},\n",
    "            \"volume\": {\"type\": \"keyword\"},\n",
    "            \"children\": {\"type\": \"keyword\"},\n",
    "            \"parent\": {\"type\": \"keyword\"},\n",
    "            \"text_downloaded\": {\"type\": \"keyword\"},\n",
    "            \"text_file\": {\"type\": \"keyword\"}\n",
    "        }\n",
    "    }\n",
    "}\n",
    "\n",
    "response = requests.put(f'{endpoint}/{index_name}', json=index_mapping)\n",
    "if response.status_code == 200:\n",
    "    print(\"Index created successfully!\")\n",
    "else:\n",
    "    print(\"Failed to create the index.\")"
   ]
  },
  {
   "cell_type": "code",
   "execution_count": 1,
   "id": "0a38c43e",
   "metadata": {},
   "outputs": [
    {
     "name": "stdout",
     "output_type": "stream",
     "text": [
      "84348\n",
      "{'index': {'_index': 'boook', '_id': 1}}\n",
      "{'title': 'Goliath Joe, fisherman / by Charles Thackeray (Wobbegong)', 'url': 'https://trove.nla.gov.au/work/10013347', 'contributors': 'Thackeray, Charles', 'date': '1900-1919', 'format': 'Book|Book/Illustrated', 'fulltext_url': 'https://nla.gov.au/nla.obj-2831231419', 'trove_id': 'nla.obj-2831231419', 'language': 'English', 'rights': 'Out of Copyright|http://rightsstatements.org/vocab/NKC/1.0/', 'pages': '130', 'form': 'Book', 'volume': '', 'parent': '', 'children': '', 'text_downloaded': 'True', 'text_file': 'goliath-joe-fisherman-by-charles-thackeray-wob-nla.obj-2831231419.txt'}\n",
      "{'index': {'_index': 'boook', '_id': 2}}\n",
      "{'title': 'Grammar of the Narrinyeri tribe of Australian Aborigines / by the late Rev. G. Taplin', 'url': 'https://trove.nla.gov.au/work/10029401', 'contributors': 'Taplin, George', 'date': '1878-1880', 'format': 'Book|Government publication', 'fulltext_url': 'http://nla.gov.au/nla.obj-688657424', 'trove_id': 'nla.obj-688657424', 'language': 'English', 'rights': 'Out of Copyright|http://rightsstatements.org/vocab/NKC/1.0/', 'pages': '24', 'form': 'Book', 'volume': '', 'parent': '', 'children': '', 'text_downloaded': 'True', 'text_file': 'grammar-of-the-narrinyeri-tribe-of-australian-abor-nla.obj-688657424.txt'}\n"
     ]
    },
    {
     "name": "stderr",
     "output_type": "stream",
     "text": [
      "/tmp/ipykernel_5355/1609705154.py:26: DeprecationWarning: The 'body' parameter is deprecated and will be removed in a future version. Instead use the 'operations' parameter. See https://github.com/elastic/elasticsearch-py/issues/1698 for more information\n",
      "  response = es.bulk(body=my_body)\n",
      "/tmp/ipykernel_5355/1609705154.py:26: ElasticsearchWarning: Elasticsearch built-in security features are not enabled. Without authentication, your cluster could be accessible to anyone. See https://www.elastic.co/guide/en/elasticsearch/reference/7.17/security-minimal-setup.html to enable security.\n",
      "  response = es.bulk(body=my_body)\n"
     ]
    }
   ],
   "source": [
    "from elasticsearch import Elasticsearch\n",
    "import csv\n",
    "\n",
    "es = Elasticsearch(hosts=['http://localhost:9200'])\n",
    "index_name = 'boook'\n",
    "file_path = 'books_info.csv'\n",
    "\n",
    "def counter():\n",
    "    counter.count += 1\n",
    "    return counter.count\n",
    "counter.count = 0\n",
    "\n",
    "with open(file_path, 'r', encoding='utf-8') as file:\n",
    "    reader = csv.DictReader(file)\n",
    "    my_body = []\n",
    "    for i, row in enumerate(reader, start=1):\n",
    "        my_body.append({\"index\": {\"_index\": index_name, \"_id\": i}})\n",
    "        my_body.append(dict(row))\n",
    "\n",
    "print(len(my_body))\n",
    "print(my_body[0])\n",
    "print(my_body[1])\n",
    "print(my_body[2])\n",
    "print(my_body[3])\n",
    "\n",
    "response = es.bulk(body=my_body)\n"
   ]
  },
  {
   "cell_type": "code",
   "execution_count": 4,
   "id": "e66d13a0",
   "metadata": {},
   "outputs": [
    {
     "data": {
      "text/plain": [
       "<cassandra.cluster.ResultSet at 0x7f64fd6c60e0>"
      ]
     },
     "execution_count": 4,
     "metadata": {},
     "output_type": "execute_result"
    }
   ],
   "source": [
    "\n",
    "session.execute(create_table_query_children)\n"
   ]
  },
  {
   "cell_type": "code",
   "execution_count": 4,
   "id": "bfb7749d",
   "metadata": {},
   "outputs": [
    {
     "name": "stdout",
     "output_type": "stream",
     "text": [
      "Elasticsearch is ready.\n",
      "Cassandra is ready.\n",
      "\n"
     ]
    },
    {
     "name": "stderr",
     "output_type": "stream",
     "text": [
      "/tmp/ipykernel_5603/3288612868.py:34: DeprecationWarning: The 'body' parameter is deprecated and will be removed in a future version. Instead use individual parameters.\n",
      "  res = es.search(\n",
      "/tmp/ipykernel_5603/3288612868.py:34: ElasticsearchWarning: Elasticsearch built-in security features are not enabled. Without authentication, your cluster could be accessible to anyone. See https://www.elastic.co/guide/en/elasticsearch/reference/7.17/security-minimal-setup.html to enable security.\n",
      "  res = es.search(\n"
     ]
    },
    {
     "name": "stdout",
     "output_type": "stream",
     "text": [
      "Done.\n",
      "Done.\n"
     ]
    }
   ],
   "source": [
    "from elasticsearch import Elasticsearch\n",
    "from cassandra.cluster import Cluster\n",
    "from cassandra.query import BatchStatement\n",
    "\n",
    "es = Elasticsearch(hosts=['http://localhost:9200'])\n",
    "print(\"Elasticsearch is ready.\")\n",
    "cluster = Cluster(['localhost'])\n",
    "session = cluster.connect()\n",
    "print(\"Cassandra is ready.\\n\")\n",
    "\n",
    "index_name = 'boook'\n",
    "batch_size = 1000\n",
    "sort_field = '_doc'\n",
    "search_after = None\n",
    "\n",
    "insert_query_for_children = \"INSERT INTO ali.children (trove_id,title,url,contributors,date,format,pages) VALUES (?,?,?,?,?,?,?)\"\n",
    "create_table_query_children= \"CREATE TABLE ali.children (\\\n",
    "    title text,\\\n",
    "    url text,\\\n",
    "    contributors text,\\\n",
    "    date text,\\\n",
    "    format text,\\\n",
    "    trove_id text PRIMARY KEY,\\\n",
    "    pages int\\\n",
    ");\"\n",
    "insert_statement = session.prepare(insert_query_for_children)\n",
    "while True:\n",
    "    res = es.search(\n",
    "        index='boook',\n",
    "        body={\n",
    "            'query': {\n",
    "                'bool': {\n",
    "                    'must': [\n",
    "                        {'exists': {'field': 'parent'}},\n",
    "                        {'bool': {'must_not': [{'term': {'parent': ''}}]}}\n",
    "                    ]\n",
    "                }\n",
    "            },\n",
    "            'sort': [{sort_field: {'order': 'asc'}}],\n",
    "            'size': batch_size,\n",
    "            'search_after': search_after\n",
    "        }\n",
    "    )\n",
    "\n",
    "    if res['hits']['hits']:\n",
    "        last_hit = res['hits']['hits'][-1]\n",
    "        search_after = last_hit['sort']\n",
    "        \n",
    "        for hit in res['hits']['hits']:\n",
    "            doc_id = hit['_id']\n",
    "            doc = hit['_source']\n",
    "            row = (doc['trove_id'], doc['title'], doc['url'], doc['contributors'], doc['date'], doc['format'], int(doc['pages']))\n",
    "            session.execute(insert_statement, row)\n",
    "    else:\n",
    "        break\n",
    "\n",
    "print(\"Done.\")"
   ]
  },
  {
   "cell_type": "code",
   "execution_count": null,
   "id": "885368bf",
   "metadata": {},
   "outputs": [],
   "source": []
  },
  {
   "cell_type": "code",
   "execution_count": 6,
   "id": "9bd1d523",
   "metadata": {},
   "outputs": [
    {
     "name": "stdout",
     "output_type": "stream",
     "text": [
      "Elasticsearch is ready.\n",
      "Cassandra is ready.\n",
      "\n",
      "Done.\n"
     ]
    },
    {
     "name": "stderr",
     "output_type": "stream",
     "text": [
      "/tmp/ipykernel_5603/3932230067.py:35: DeprecationWarning: The 'body' parameter is deprecated and will be removed in a future version. Instead use individual parameters.\n",
      "  res = es.search(\n",
      "/tmp/ipykernel_5603/3932230067.py:35: ElasticsearchWarning: Elasticsearch built-in security features are not enabled. Without authentication, your cluster could be accessible to anyone. See https://www.elastic.co/guide/en/elasticsearch/reference/7.17/security-minimal-setup.html to enable security.\n",
      "  res = es.search(\n"
     ]
    }
   ],
   "source": [
    "from elasticsearch import Elasticsearch\n",
    "from cassandra.cluster import Cluster\n",
    "from cassandra.query import BatchStatement\n",
    "\n",
    "es = Elasticsearch(hosts=['http://localhost:9200'])\n",
    "print(\"Elasticsearch is ready.\")\n",
    "cluster = Cluster(['localhost'])\n",
    "session = cluster.connect()\n",
    "print(\"Cassandra is ready.\\n\")\n",
    "\n",
    "index_name = 'boook'\n",
    "batch_size = 1000\n",
    "sort_field = '_doc'\n",
    "search_after = None\n",
    "\n",
    "insert_query_for_parents = \"INSERT INTO ali.parents (trove_id,title,url,contributors,date,format,pages) VALUES (?,?,?,?,?,?,?)\"\n",
    "create_table_query_parents= \"CREATE TABLE ali.parents (\\\n",
    "    title text,\\\n",
    "    url text,\\\n",
    "    contributors text,\\\n",
    "    date text,\\\n",
    "    format text,\\\n",
    "    trove_id text PRIMARY KEY,\\\n",
    "    pages int\\\n",
    ");\"\n",
    "\n",
    "insert_statement = session.prepare(insert_query_for_parents)\n",
    "\n",
    "while True:\n",
    "    res = es.search(\n",
    "        index='boook',\n",
    "        body={\n",
    "            'query': {\n",
    "                'bool': {\n",
    "                    'must': [\n",
    "                        {'exists': {'field': 'children'}},\n",
    "                        {'bool': {'must_not': [{'term': {'children': ''}}]}}\n",
    "                    ]\n",
    "                }\n",
    "            },\n",
    "            'sort': [{sort_field: {'order': 'asc'}}],\n",
    "            'size': batch_size,\n",
    "            'search_after': search_after\n",
    "        }\n",
    "    )\n",
    "\n",
    "    if res['hits']['hits']:\n",
    "        last_hit = res['hits']['hits'][-1]\n",
    "        search_after = last_hit['sort']\n",
    "        \n",
    "        for hit in res['hits']['hits']:\n",
    "            doc_id = hit['_id']\n",
    "            doc = hit['_source']\n",
    "            row = (doc['trove_id'], doc['title'], doc['url'], doc['contributors'], doc['date'], doc['format'], int(doc['pages']))\n",
    "            session.execute(insert_statement, row)\n",
    "    else:\n",
    "        break\n",
    "\n",
    "print(\"Done.\")"
   ]
  }
 ],
 "metadata": {
  "kernelspec": {
   "display_name": "Python 3 (ipykernel)",
   "language": "python",
   "name": "python3"
  },
  "language_info": {
   "codemirror_mode": {
    "name": "ipython",
    "version": 3
   },
   "file_extension": ".py",
   "mimetype": "text/x-python",
   "name": "python",
   "nbconvert_exporter": "python",
   "pygments_lexer": "ipython3",
   "version": "3.10.6"
  }
 },
 "nbformat": 4,
 "nbformat_minor": 5
}
